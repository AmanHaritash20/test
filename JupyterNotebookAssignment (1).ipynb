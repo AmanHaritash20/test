{
 "cells": [
  {
   "cell_type": "markdown",
   "id": "22f43a0d-e8a7-45bd-9805-d1be1574dff6",
   "metadata": {},
   "source": [
    "# My Jupyter Notebook on IBM Watson Studio"
   ]
  },
  {
   "cell_type": "markdown",
   "id": "2af53313-455f-4468-8d62-98558b8aa2e0",
   "metadata": {},
   "source": [
    "**Aman Haritash**  \n",
    "Data Scientist"
   ]
  },
  {
   "cell_type": "markdown",
   "id": "82cd6dd3-9955-43ae-b7ea-15c2c593bc66",
   "metadata": {},
   "source": [
    "*I am interested in data science because whenever I get a data to analyze and work on, I feel refreshed and indulged.*"
   ]
  },
  {
   "cell_type": "markdown",
   "id": "a62df936-a238-4a7c-8b1a-488ecb0e4c29",
   "metadata": {},
   "source": [
    "### The following code tests the Gauss formula"
   ]
  },
  {
   "cell_type": "code",
   "execution_count": 1,
   "id": "f83bdfc6-490a-4373-bc0e-d07a89cb7476",
   "metadata": {},
   "outputs": [
    {
     "data": {
      "text/plain": [
       "True"
      ]
     },
     "execution_count": 1,
     "metadata": {},
     "output_type": "execute_result"
    }
   ],
   "source": [
    "def gauss(n):\n",
    "    return (n*(n+1))/2\n",
    "\n",
    "gauss(100) == sum(range(101))"
   ]
  },
  {
   "cell_type": "markdown",
   "id": "b0846266-01fc-422b-a66b-7691a75e85e8",
   "metadata": {},
   "source": [
    "- Data  \n",
    "- is  \n",
    "- the  \n",
    "- heart  \n",
    "- of  \n",
    "- every  \n",
    "- organisation  "
   ]
  },
  {
   "cell_type": "code",
   "execution_count": null,
   "id": "86a10f0a-9a43-4917-b1d9-a67b000b98a3",
   "metadata": {},
   "outputs": [],
   "source": []
  }
 ],
 "metadata": {
  "kernelspec": {
   "display_name": "Python",
   "language": "python",
   "name": "conda-env-python-py"
  },
  "language_info": {
   "codemirror_mode": {
    "name": "ipython",
    "version": 3
   },
   "file_extension": ".py",
   "mimetype": "text/x-python",
   "name": "python",
   "nbconvert_exporter": "python",
   "pygments_lexer": "ipython3",
   "version": "3.7.12"
  }
 },
 "nbformat": 4,
 "nbformat_minor": 5
}
